{
  "nbformat": 4,
  "nbformat_minor": 0,
  "metadata": {
    "colab": {
      "name": "Untitled0.ipynb",
      "provenance": [],
      "authorship_tag": "ABX9TyNMLLHBxPbDr82tbUxVcEzc",
      "include_colab_link": true
    },
    "kernelspec": {
      "name": "python3",
      "display_name": "Python 3"
    }
  },
  "cells": [
    {
      "cell_type": "markdown",
      "metadata": {
        "id": "view-in-github",
        "colab_type": "text"
      },
      "source": [
        "<a href=\"https://colab.research.google.com/github/ws6798/USOP/blob/master/Untitled0.ipynb\" target=\"_parent\"><img src=\"https://colab.research.google.com/assets/colab-badge.svg\" alt=\"Open In Colab\"/></a>"
      ]
    },
    {
      "cell_type": "code",
      "metadata": {
        "id": "ngAywZIQAbSD",
        "colab_type": "code",
        "colab": {}
      },
      "source": [
        ""
      ],
      "execution_count": 0,
      "outputs": []
    },
    {
      "cell_type": "markdown",
      "metadata": {
        "id": "We901BpKDG4f",
        "colab_type": "text"
      },
      "source": [
        "1.언어 : 파파고의 인공지능 통번역 서비스, \n",
        "2.음성 : 아마존의 알렉사, 삼성의 빅스비 등 인공지능비서\n",
        "3.이미지 : 구글의 구글포토, 삼성의 AI 카메라, 인공지능 피부관리 루미니\n",
        "4.자율주행 : 구글의 웨이모, 아마존의 드론 배송 시스템"
      ]
    }
  ]
}